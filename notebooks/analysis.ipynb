# Jupyter notebook for performance comparison
